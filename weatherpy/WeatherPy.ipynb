{
 "cells": [
  {
   "cell_type": "markdown",
   "metadata": {},
   "source": [
    "## Part 1: WeatherPy\n",
    "\n",
    "In this section, you'll create a Python script to visualize the weather of 500+ cities of varying distance from the equator. To do so, you'll use a [simple Python library](https://pypi.python.org/pypi/citipy), the [OpenWeatherMap API](https://openweathermap.org/api), and your problem-solving skills to create a representative model of weather across cities.\n",
    "\n",
    "The first requirement is to create a series of scatter plots to showcase the following relationships:\n",
    "\n",
    "* Temperature (F) vs. Latitude\n",
    "* Humidity (%) vs. Latitude\n",
    "* Cloudiness (%) vs. Latitude\n",
    "* Wind Speed (mph) vs. Latitude\n",
    "\n",
    "After each plot, add a sentence or two explaining what the code is analyzing.\n",
    "\n",
    "The second requirement is to compute the linear regression for each relationship. This time, separate the plots into Northern Hemisphere (greater than or equal to 0 degrees latitude) and Southern Hemisphere (less than 0 degrees latitude):\n",
    "\n",
    "* Northern Hemisphere - Temperature (F) vs. Latitude\n",
    "* Southern Hemisphere - Temperature (F) vs. Latitude\n",
    "* Northern Hemisphere - Humidity (%) vs. Latitude\n",
    "* Southern Hemisphere - Humidity (%) vs. Latitude\n",
    "* Northern Hemisphere - Cloudiness (%) vs. Latitude\n",
    "* Southern Hemisphere - Cloudiness (%) vs. Latitude\n",
    "* Northern Hemisphere - Wind Speed (mph) vs. Latitude\n",
    "* Southern Hemisphere - Wind Speed (mph) vs. Latitude\n",
    "\n",
    "After each pair of plots, explain what the linear regression is modeling. For example, describe any relationships that you notice and any other findings you may have.\n",
    "\n",
    "Your final notebook must:\n",
    "\n",
    "* Randomly select **at least** 500 unique (non-repeated) cities based on latitude and longitude.\n",
    "* Perform a weather check on each of the cities using a series of successive API calls.\n",
    "* Include a print log of each city as it's being processed, with the city number and city name.\n",
    "* Save a CSV of all retrieved data and a PNG image for each scatter plot."
   ]
  },
  {
   "cell_type": "code",
   "execution_count": 1,
   "metadata": {
    "scrolled": true
   },
   "outputs": [],
   "source": [
    "# Dependencies and Setup\n",
    "import matplotlib.pyplot as plt\n",
    "import pandas as pd\n",
    "import numpy as np\n",
    "import requests\n",
    "import time\n",
    "from scipy.stats import linregress\n",
    "import scipy.stats as st\n",
    "\n",
    "# Import API key\n",
    "from api_keys import weather_api_key\n",
    "\n",
    "# Incorporated citipy to determine city based on latitude and longitude\n",
    "from citipy import citipy\n",
    "\n",
    "# Output File (CSV)\n",
    "output_data_file = \"output_data/cities.csv\"\n",
    "\n",
    "# Range of latitudes and longitudes\n",
    "lat_range = (-90, 90)\n",
    "lng_range = (-180, 180)"
   ]
  },
  {
   "cell_type": "markdown",
   "metadata": {},
   "source": [
    "## Generate Cities List"
   ]
  },
  {
   "cell_type": "code",
   "execution_count": 2,
   "metadata": {},
   "outputs": [
    {
     "data": {
      "text/plain": [
       "609"
      ]
     },
     "execution_count": 2,
     "metadata": {},
     "output_type": "execute_result"
    }
   ],
   "source": [
    "# List for holding lat_lngs and cities\n",
    "lat_lngs = []\n",
    "cities = []\n",
    "\n",
    "# Create a set of random lat and lng combinations\n",
    "lats = np.random.uniform(lat_range[0], lat_range[1], size=1500)\n",
    "lngs = np.random.uniform(lng_range[0], lng_range[1], size=1500)\n",
    "lat_lngs = zip(lats, lngs)\n",
    "\n",
    "# Identify nearest city for each lat, lng combination\n",
    "for lat_lng in lat_lngs:\n",
    "    city = citipy.nearest_city(lat_lng[0], lat_lng[1]).city_name\n",
    "    \n",
    "    # If the city is unique, then add it to a our cities list\n",
    "    if city not in cities:\n",
    "        cities.append(city)\n",
    "\n",
    "# Print the city count to confirm sufficient count\n",
    "len(cities)\n"
   ]
  },
  {
   "cell_type": "markdown",
   "metadata": {},
   "source": [
    "### Perform API Calls\n",
    "* Perform a weather check on each city using a series of successive API calls.\n",
    "* Include a print log of each city as it'sbeing processed (with the city number and city name).\n"
   ]
  },
  {
   "cell_type": "code",
   "execution_count": 3,
   "metadata": {},
   "outputs": [],
   "source": [
    "#save initial url\n",
    "url =\"https://api.openweathermap.org/data/2.5/weather?\"\n",
    "units= 'imperial'\n",
    "\n",
    "#build target url to call #q= to call city names\n",
    "target_url = f'{url}appid={weather_api_key}&units={units}&q='\n"
   ]
  },
  {
   "cell_type": "code",
   "execution_count": 5,
   "metadata": {},
   "outputs": [],
   "source": [
    "# Set up lists to hold response info:\n",
    "name=[]         #list cities with no error\n",
    "cloud=[]        # list cloudines\n",
    "ctry=[]         # list country\n",
    "date=[]         # list date\n",
    "humid=[]         # list humidity\n",
    "lat=[]          # list latitude\n",
    "long=[]          # list longitude\n",
    "maxtemp=[]      # list max temperature\n",
    "wind=[]         # list wind speed\n",
    "\n",
    "count=0 # set counter to print to match with provided result\n",
    "set = 1"
   ]
  },
  {
   "cell_type": "code",
   "execution_count": 6,
   "metadata": {
    "scrolled": true
   },
   "outputs": [
    {
     "name": "stdout",
     "output_type": "stream",
     "text": [
      "Beginning Data Retrieval\n",
      "-----------------------------\n",
      "Processing Record 1 of Set 1 | qaanaaq\n",
      "Processing Record 2 of Set 1 | ponta do sol\n",
      "Processing Record 3 of Set 1 | nanortalik\n",
      "Processing Record 4 of Set 1 | port alfred\n",
      "ngukurrcity not found. Skipping...\n",
      "Processing Record 5 of Set 1 | penzance\n",
      "Processing Record 6 of Set 1 | saint-philippe\n",
      "Processing Record 7 of Set 1 | sri aman\n",
      "illoqqortoormiutcity not found. Skipping...\n",
      "formoso do araguaiacity not found. Skipping...\n",
      "rawannawicity not found. Skipping...\n",
      "Processing Record 8 of Set 1 | yulara\n",
      "Processing Record 9 of Set 1 | bluff\n",
      "Processing Record 10 of Set 1 | tuatapere\n",
      "Processing Record 11 of Set 1 | mataura\n",
      "Processing Record 12 of Set 1 | east london\n",
      "Processing Record 13 of Set 1 | vestmannaeyjar\n",
      "Processing Record 14 of Set 1 | ushuaia\n",
      "Processing Record 15 of Set 1 | corum\n",
      "Processing Record 16 of Set 1 | berlevag\n",
      "Processing Record 17 of Set 1 | chuy\n",
      "Processing Record 18 of Set 1 | marsh harbour\n",
      "Processing Record 19 of Set 1 | kapaa\n",
      "Processing Record 20 of Set 1 | rocha\n",
      "Processing Record 21 of Set 1 | tuktoyaktuk\n",
      "Processing Record 22 of Set 1 | bud\n",
      "Processing Record 23 of Set 1 | rikitea\n",
      "Processing Record 24 of Set 1 | santa fe\n",
      "Processing Record 25 of Set 1 | brae\n",
      "Processing Record 26 of Set 1 | ghanzi\n",
      "Processing Record 27 of Set 1 | new norfolk\n",
      "Processing Record 28 of Set 1 | rio grande\n",
      "Processing Record 29 of Set 1 | longyearbyen\n",
      "Processing Record 30 of Set 1 | cherskiy\n",
      "Processing Record 31 of Set 1 | carnarvon\n",
      "Processing Record 32 of Set 1 | avarua\n",
      "Processing Record 33 of Set 1 | lata\n",
      "Processing Record 34 of Set 1 | vaini\n",
      "Processing Record 35 of Set 1 | puerto ayora\n",
      "Processing Record 36 of Set 1 | deputatskiy\n",
      "attawapiskatcity not found. Skipping...\n",
      "Processing Record 37 of Set 1 | dabakala\n",
      "Processing Record 38 of Set 1 | tautira\n",
      "Processing Record 39 of Set 1 | tasiilaq\n",
      "Processing Record 40 of Set 1 | arlit\n",
      "Processing Record 41 of Set 1 | suchitlan\n",
      "Processing Record 42 of Set 1 | asau\n",
      "Processing Record 43 of Set 1 | butaritari\n",
      "Processing Record 44 of Set 1 | hermanus\n",
      "Processing Record 45 of Set 1 | albany\n",
      "Processing Record 46 of Set 1 | cabatuan\n",
      "Processing Record 47 of Set 1 | wawa\n",
      "Processing Record 48 of Set 1 | hilo\n",
      "Processing Record 49 of Set 1 | roald\n",
      "Processing Record 1 of Set 2 | busselton\n",
      "Processing Record 2 of Set 2 | gewane\n",
      "Processing Record 3 of Set 2 | barrow\n",
      "Processing Record 4 of Set 2 | kapoeta\n",
      "Processing Record 5 of Set 2 | alugan\n",
      "Processing Record 6 of Set 2 | airai\n",
      "Processing Record 7 of Set 2 | saskylakh\n",
      "belushya gubacity not found. Skipping...\n",
      "port ellencity not found. Skipping...\n",
      "Processing Record 8 of Set 2 | kavieng\n",
      "Processing Record 9 of Set 2 | raga\n",
      "Processing Record 10 of Set 2 | ngama\n",
      "Processing Record 11 of Set 2 | jamestown\n",
      "Processing Record 12 of Set 2 | santiago del estero\n",
      "Processing Record 13 of Set 2 | necochea\n",
      "Processing Record 14 of Set 2 | port lavaca\n",
      "Processing Record 15 of Set 2 | arraial do cabo\n",
      "Processing Record 16 of Set 2 | ketchikan\n",
      "Processing Record 17 of Set 2 | khatanga\n",
      "nizhneyanskcity not found. Skipping...\n",
      "Processing Record 18 of Set 2 | wolfhagen\n",
      "Processing Record 19 of Set 2 | taoudenni\n",
      "Processing Record 20 of Set 2 | sukhumi\n",
      "Processing Record 21 of Set 2 | leningradskiy\n",
      "Processing Record 22 of Set 2 | hobart\n",
      "Processing Record 23 of Set 2 | fort nelson\n",
      "Processing Record 24 of Set 2 | souillac\n",
      "Processing Record 25 of Set 2 | college\n",
      "Processing Record 26 of Set 2 | cidreira\n",
      "Processing Record 27 of Set 2 | luan\n",
      "Processing Record 28 of Set 2 | bambous virieux\n",
      "yomitancity not found. Skipping...\n",
      "Processing Record 29 of Set 2 | geraldton\n",
      "Processing Record 30 of Set 2 | bonthe\n",
      "Processing Record 31 of Set 2 | port elizabeth\n",
      "Processing Record 32 of Set 2 | baykit\n",
      "Processing Record 33 of Set 2 | ribeira grande\n",
      "Processing Record 34 of Set 2 | chekhov\n",
      "Processing Record 35 of Set 2 | lompoc\n",
      "Processing Record 36 of Set 2 | hofn\n",
      "Processing Record 37 of Set 2 | vostok\n",
      "Processing Record 38 of Set 2 | padang\n",
      "Processing Record 39 of Set 2 | los llanos de aridane\n",
      "vaitupucity not found. Skipping...\n",
      "Processing Record 40 of Set 2 | grand gaube\n",
      "richard tollcity not found. Skipping...\n",
      "Processing Record 41 of Set 2 | chokurdakh\n",
      "Processing Record 42 of Set 2 | mar del plata\n",
      "Processing Record 43 of Set 2 | kuruman\n",
      "Processing Record 44 of Set 2 | kahului\n",
      "Processing Record 45 of Set 2 | grand bank\n",
      "Processing Record 46 of Set 2 | laela\n",
      "Processing Record 47 of Set 2 | bubaque\n",
      "Processing Record 48 of Set 2 | balagansk\n",
      "Processing Record 49 of Set 2 | nikolskoye\n",
      "Processing Record 1 of Set 3 | tabou\n",
      "Processing Record 2 of Set 3 | broome\n",
      "Processing Record 3 of Set 3 | kuala lipis\n",
      "grand centrecity not found. Skipping...\n",
      "Processing Record 4 of Set 3 | eagle pass\n",
      "gzhatskcity not found. Skipping...\n",
      "Processing Record 5 of Set 3 | vardo\n",
      "Processing Record 6 of Set 3 | patamundai\n",
      "Processing Record 7 of Set 3 | kaitangata\n",
      "Processing Record 8 of Set 3 | morondava\n",
      "Processing Record 9 of Set 3 | antalaha\n",
      "Processing Record 10 of Set 3 | jalu\n",
      "Processing Record 11 of Set 3 | vila velha\n",
      "Processing Record 12 of Set 3 | aswan\n",
      "Processing Record 13 of Set 3 | alice springs\n",
      "Processing Record 14 of Set 3 | west odessa\n",
      "Processing Record 15 of Set 3 | cape town\n",
      "Processing Record 16 of Set 3 | bethel\n",
      "mys shmidtacity not found. Skipping...\n",
      "Processing Record 17 of Set 3 | aldergrove\n",
      "barentsburgcity not found. Skipping...\n",
      "Processing Record 18 of Set 3 | capiibary\n",
      "Processing Record 19 of Set 3 | katsuura\n",
      "Processing Record 20 of Set 3 | georgetown\n",
      "Processing Record 21 of Set 3 | narayanavanam\n",
      "Processing Record 22 of Set 3 | karaidel\n",
      "Processing Record 23 of Set 3 | cabo san lucas\n",
      "Processing Record 24 of Set 3 | sarlat-la-caneda\n",
      "Processing Record 25 of Set 3 | lima\n",
      "Processing Record 26 of Set 3 | kruisfontein\n",
      "Processing Record 27 of Set 3 | rokytne\n",
      "Processing Record 28 of Set 3 | punta arenas\n",
      "Processing Record 29 of Set 3 | esperance\n",
      "Processing Record 30 of Set 3 | hambantota\n",
      "Processing Record 31 of Set 3 | yellowknife\n",
      "Processing Record 32 of Set 3 | trat\n",
      "taolanarocity not found. Skipping...\n",
      "Processing Record 33 of Set 3 | atuona\n",
      "Processing Record 34 of Set 3 | pisco\n",
      "tsihombecity not found. Skipping...\n",
      "Processing Record 35 of Set 3 | sikeston\n",
      "Processing Record 36 of Set 3 | coihaique\n",
      "karauzyakcity not found. Skipping...\n",
      "Processing Record 37 of Set 3 | dalbandin\n",
      "Processing Record 38 of Set 3 | san patricio\n",
      "Processing Record 39 of Set 3 | yumen\n",
      "Processing Record 40 of Set 3 | quatre cocos\n",
      "Processing Record 41 of Set 3 | norman wells\n",
      "Processing Record 42 of Set 3 | egvekinot\n",
      "Processing Record 43 of Set 3 | alofi\n",
      "Processing Record 44 of Set 3 | jawhar\n",
      "Processing Record 45 of Set 3 | sao joao da barra\n",
      "Processing Record 46 of Set 3 | santa isabel do rio negro\n",
      "Processing Record 47 of Set 3 | bengkulu\n",
      "Processing Record 48 of Set 3 | srednekolymsk\n",
      "Processing Record 49 of Set 3 | kamenka\n",
      "Processing Record 1 of Set 4 | sirnak\n",
      "Processing Record 2 of Set 4 | hasaki\n",
      "Processing Record 3 of Set 4 | severo-kurilsk\n",
      "Processing Record 4 of Set 4 | kovdor\n",
      "Processing Record 5 of Set 4 | avera\n",
      "Processing Record 6 of Set 4 | beringovskiy\n",
      "Processing Record 7 of Set 4 | fukue\n",
      "skagastrondcity not found. Skipping...\n",
      "Processing Record 8 of Set 4 | pangody\n",
      "Processing Record 9 of Set 4 | fortuna\n",
      "Processing Record 10 of Set 4 | nandu\n",
      "Processing Record 11 of Set 4 | inongo\n",
      "Processing Record 12 of Set 4 | cap malheureux\n",
      "Processing Record 13 of Set 4 | prince rupert\n",
      "Processing Record 14 of Set 4 | ust-uda\n",
      "Processing Record 15 of Set 4 | lavrentiya\n",
      "Processing Record 16 of Set 4 | galle\n",
      "Processing Record 17 of Set 4 | kodiak\n",
      "Processing Record 18 of Set 4 | bredasdorp\n",
      "Processing Record 19 of Set 4 | saint-augustin\n",
      "Processing Record 20 of Set 4 | yendi\n",
      "Processing Record 21 of Set 4 | buchanan\n",
      "Processing Record 22 of Set 4 | brigantine\n",
      "Processing Record 23 of Set 4 | coquimbo\n",
      "Processing Record 24 of Set 4 | santa isabel\n",
      "Processing Record 25 of Set 4 | provideniya\n",
      "Processing Record 26 of Set 4 | raudeberg\n",
      "Processing Record 27 of Set 4 | lagoa\n",
      "Processing Record 28 of Set 4 | labuhan\n",
      "Processing Record 29 of Set 4 | sao gabriel da cachoeira\n",
      "Processing Record 30 of Set 4 | half moon bay\n",
      "Processing Record 31 of Set 4 | sorong\n",
      "Processing Record 32 of Set 4 | saint anthony\n"
     ]
    },
    {
     "name": "stdout",
     "output_type": "stream",
     "text": [
      "Processing Record 33 of Set 4 | daru\n",
      "Processing Record 34 of Set 4 | castro\n",
      "Processing Record 35 of Set 4 | havelock\n",
      "Processing Record 36 of Set 4 | paidha\n",
      "Processing Record 37 of Set 4 | shitkino\n",
      "sentyabrskiycity not found. Skipping...\n",
      "Processing Record 38 of Set 4 | dikson\n",
      "Processing Record 39 of Set 4 | kulhudhuffushi\n",
      "Processing Record 40 of Set 4 | svetlyy\n",
      "Processing Record 41 of Set 4 | celestun\n",
      "Processing Record 42 of Set 4 | kodinsk\n",
      "Processing Record 43 of Set 4 | mitu\n",
      "Processing Record 44 of Set 4 | beira\n",
      "Processing Record 45 of Set 4 | fairbanks\n",
      "tasbugetcity not found. Skipping...\n",
      "Processing Record 46 of Set 4 | torquay\n",
      "Processing Record 47 of Set 4 | ibimirim\n",
      "Processing Record 48 of Set 4 | aklavik\n",
      "Processing Record 49 of Set 4 | coahuayana\n",
      "Processing Record 1 of Set 5 | chimoio\n",
      "Processing Record 2 of Set 5 | launceston\n",
      "Processing Record 3 of Set 5 | lae\n",
      "taburicity not found. Skipping...\n",
      "Processing Record 4 of Set 5 | hualmay\n",
      "Processing Record 5 of Set 5 | saint george\n",
      "Processing Record 6 of Set 5 | tawau\n",
      "Processing Record 7 of Set 5 | cururupu\n",
      "Processing Record 8 of Set 5 | torbay\n",
      "Processing Record 9 of Set 5 | faanui\n",
      "Processing Record 10 of Set 5 | manaure\n",
      "Processing Record 11 of Set 5 | peniche\n",
      "Processing Record 12 of Set 5 | salalah\n",
      "Processing Record 13 of Set 5 | jacareacanga\n",
      "Processing Record 14 of Set 5 | nizwa\n",
      "Processing Record 15 of Set 5 | zambezi\n",
      "Processing Record 16 of Set 5 | ilulissat\n",
      "Processing Record 17 of Set 5 | cuiluan\n",
      "Processing Record 18 of Set 5 | upernavik\n",
      "Processing Record 19 of Set 5 | cockburn town\n",
      "Processing Record 20 of Set 5 | thabazimbi\n",
      "Processing Record 21 of Set 5 | christchurch\n",
      "Processing Record 22 of Set 5 | aksarka\n",
      "Processing Record 23 of Set 5 | price\n",
      "Processing Record 24 of Set 5 | bereda\n",
      "Processing Record 25 of Set 5 | nikolayevsk-na-amure\n",
      "Processing Record 26 of Set 5 | yar-sale\n",
      "Processing Record 27 of Set 5 | taganak\n",
      "kadykchancity not found. Skipping...\n",
      "Processing Record 28 of Set 5 | pyu\n",
      "Processing Record 29 of Set 5 | deer lake\n",
      "Processing Record 30 of Set 5 | mahebourg\n",
      "Processing Record 31 of Set 5 | straumen\n",
      "Processing Record 32 of Set 5 | presidente medici\n",
      "Processing Record 33 of Set 5 | mbaiki\n",
      "Processing Record 34 of Set 5 | tutoia\n",
      "Processing Record 35 of Set 5 | kupang\n",
      "Processing Record 36 of Set 5 | nishihara\n",
      "Processing Record 37 of Set 5 | birao\n",
      "Processing Record 38 of Set 5 | pangnirtung\n",
      "Processing Record 39 of Set 5 | hithadhoo\n",
      "Processing Record 40 of Set 5 | komsomolskiy\n",
      "Processing Record 41 of Set 5 | mount gambier\n",
      "Processing Record 42 of Set 5 | aranyosapati\n",
      "Processing Record 43 of Set 5 | bilibino\n",
      "Processing Record 44 of Set 5 | narsaq\n",
      "Processing Record 45 of Set 5 | fenelon falls\n",
      "Processing Record 46 of Set 5 | dingle\n",
      "Processing Record 47 of Set 5 | pinheiro machado\n",
      "Processing Record 48 of Set 5 | talnakh\n",
      "Processing Record 49 of Set 5 | barabai\n",
      "Processing Record 1 of Set 6 | port hedland\n",
      "Processing Record 2 of Set 6 | bandarbeyla\n",
      "Processing Record 3 of Set 6 | moron\n",
      "Processing Record 4 of Set 6 | itoman\n",
      "Processing Record 5 of Set 6 | toamasina\n",
      "Processing Record 6 of Set 6 | mochudi\n",
      "Processing Record 7 of Set 6 | kolondieba\n",
      "Processing Record 8 of Set 6 | meulaboh\n",
      "Processing Record 9 of Set 6 | waipawa\n",
      "Processing Record 10 of Set 6 | roseau\n",
      "Processing Record 11 of Set 6 | nadym\n",
      "Processing Record 12 of Set 6 | namibe\n",
      "Processing Record 13 of Set 6 | thompson\n",
      "Processing Record 14 of Set 6 | palana\n",
      "Processing Record 15 of Set 6 | ciudad valles\n",
      "Processing Record 16 of Set 6 | pinyug\n",
      "Processing Record 17 of Set 6 | luena\n",
      "Processing Record 18 of Set 6 | cabedelo\n",
      "Processing Record 19 of Set 6 | tiksi\n",
      "Processing Record 20 of Set 6 | kizema\n",
      "marconacity not found. Skipping...\n",
      "amdermacity not found. Skipping...\n",
      "Processing Record 21 of Set 6 | atar\n",
      "Processing Record 22 of Set 6 | calama\n",
      "Processing Record 23 of Set 6 | evensk\n",
      "Processing Record 24 of Set 6 | yatou\n",
      "Processing Record 25 of Set 6 | montrose\n",
      "Processing Record 26 of Set 6 | ancud\n",
      "Processing Record 27 of Set 6 | lebu\n",
      "samalaeulucity not found. Skipping...\n",
      "Processing Record 28 of Set 6 | pevek\n",
      "Processing Record 29 of Set 6 | saint-paul\n",
      "Processing Record 30 of Set 6 | altay\n",
      "Processing Record 31 of Set 6 | kibakwe\n",
      "Processing Record 32 of Set 6 | tessalit\n",
      "Processing Record 33 of Set 6 | saldanha\n",
      "palabuhanratucity not found. Skipping...\n",
      "Processing Record 34 of Set 6 | xinzhou\n",
      "Processing Record 35 of Set 6 | flinders\n",
      "Processing Record 36 of Set 6 | lokosovo\n",
      "Processing Record 37 of Set 6 | zyryanka\n",
      "Processing Record 38 of Set 6 | palmer\n",
      "Processing Record 39 of Set 6 | praia da vitoria\n",
      "Processing Record 40 of Set 6 | olinda\n",
      "Processing Record 41 of Set 6 | shitanjing\n",
      "Processing Record 42 of Set 6 | seoul\n",
      "Processing Record 43 of Set 6 | marsa matruh\n",
      "Processing Record 44 of Set 6 | palmas\n",
      "Processing Record 45 of Set 6 | okhotsk\n",
      "samusucity not found. Skipping...\n",
      "Processing Record 46 of Set 6 | pabrade\n",
      "Processing Record 47 of Set 6 | mandera\n",
      "Processing Record 48 of Set 6 | kasongo-lunda\n",
      "Processing Record 49 of Set 6 | margate\n",
      "Processing Record 1 of Set 7 | samarai\n",
      "Processing Record 2 of Set 7 | nemuro\n",
      "Processing Record 3 of Set 7 | port-cartier\n",
      "Processing Record 4 of Set 7 | takoradi\n",
      "Processing Record 5 of Set 7 | beloha\n",
      "Processing Record 6 of Set 7 | kieta\n",
      "Processing Record 7 of Set 7 | agua verde\n",
      "Processing Record 8 of Set 7 | catamarca\n",
      "Processing Record 9 of Set 7 | san angelo\n",
      "Processing Record 10 of Set 7 | oparino\n",
      "Processing Record 11 of Set 7 | anadyr\n",
      "Processing Record 12 of Set 7 | locri\n",
      "Processing Record 13 of Set 7 | marystown\n",
      "Processing Record 14 of Set 7 | chumikan\n",
      "Processing Record 15 of Set 7 | gat\n",
      "Processing Record 16 of Set 7 | grindavik\n",
      "Processing Record 17 of Set 7 | wasilla\n",
      "Processing Record 18 of Set 7 | soe\n",
      "Processing Record 19 of Set 7 | husavik\n",
      "toliarycity not found. Skipping...\n",
      "Processing Record 20 of Set 7 | sayansk\n",
      "Processing Record 21 of Set 7 | lorengau\n",
      "paytugcity not found. Skipping...\n",
      "Processing Record 22 of Set 7 | qingyuan\n",
      "Processing Record 23 of Set 7 | krasnoselkup\n",
      "Processing Record 24 of Set 7 | chingola\n",
      "Processing Record 25 of Set 7 | poum\n",
      "Processing Record 26 of Set 7 | touros\n",
      "Processing Record 27 of Set 7 | verkhniy mamon\n",
      "Processing Record 28 of Set 7 | laguna\n",
      "Processing Record 29 of Set 7 | garowe\n",
      "Processing Record 30 of Set 7 | victoria\n",
      "Processing Record 31 of Set 7 | guiratinga\n",
      "Processing Record 32 of Set 7 | royan\n",
      "satitoacity not found. Skipping...\n",
      "Processing Record 33 of Set 7 | san felipe\n",
      "Processing Record 34 of Set 7 | aguimes\n",
      "Processing Record 35 of Set 7 | finschhafen\n",
      "Processing Record 36 of Set 7 | mabaruma\n",
      "kamenskoyecity not found. Skipping...\n",
      "Processing Record 37 of Set 7 | songea\n",
      "Processing Record 38 of Set 7 | el salto\n",
      "Processing Record 39 of Set 7 | placido de castro\n",
      "Processing Record 40 of Set 7 | naze\n",
      "Processing Record 41 of Set 7 | emba\n",
      "Processing Record 42 of Set 7 | zunyi\n",
      "Processing Record 43 of Set 7 | sawtell\n",
      "umzimvubucity not found. Skipping...\n",
      "Processing Record 44 of Set 7 | paris\n",
      "Processing Record 45 of Set 7 | wenling\n",
      "Processing Record 46 of Set 7 | ulundi\n",
      "Processing Record 47 of Set 7 | kropotkin\n",
      "Processing Record 48 of Set 7 | tumpat\n",
      "Processing Record 49 of Set 7 | leeuwarden\n",
      "Processing Record 1 of Set 8 | port-gentil\n",
      "Processing Record 2 of Set 8 | manyana\n",
      "Processing Record 3 of Set 8 | shingu\n",
      "Processing Record 4 of Set 8 | sao filipe\n",
      "Processing Record 5 of Set 8 | velingrad\n",
      "saleaulacity not found. Skipping...\n",
      "Processing Record 6 of Set 8 | maniitsoq\n",
      "mahadday weynecity not found. Skipping...\n",
      "Processing Record 7 of Set 8 | ariquemes\n",
      "Processing Record 8 of Set 8 | lensk\n",
      "Processing Record 9 of Set 8 | puri\n",
      "Processing Record 10 of Set 8 | terrace\n",
      "Processing Record 11 of Set 8 | constitucion\n",
      "Processing Record 12 of Set 8 | mount isa\n",
      "Processing Record 13 of Set 8 | meridian\n",
      "Processing Record 14 of Set 8 | hobyo\n",
      "Processing Record 15 of Set 8 | cartagena\n",
      "Processing Record 16 of Set 8 | arnoldstein\n",
      "Processing Record 17 of Set 8 | valparaiso\n",
      "Processing Record 18 of Set 8 | sol-iletsk\n",
      "Processing Record 19 of Set 8 | dawson creek\n",
      "Processing Record 20 of Set 8 | adeje\n",
      "Processing Record 21 of Set 8 | ingham\n",
      "Processing Record 22 of Set 8 | shillong\n",
      "Processing Record 23 of Set 8 | kepno\n",
      "Processing Record 24 of Set 8 | jizan\n",
      "yuzhno-yeniseyskiycity not found. Skipping...\n"
     ]
    },
    {
     "name": "stdout",
     "output_type": "stream",
     "text": [
      "Processing Record 25 of Set 8 | mitikas\n",
      "Processing Record 26 of Set 8 | copiapo\n",
      "Processing Record 27 of Set 8 | valdivia\n",
      "Processing Record 28 of Set 8 | isangel\n",
      "Processing Record 29 of Set 8 | oranjemund\n",
      "Processing Record 30 of Set 8 | weinan\n",
      "Processing Record 31 of Set 8 | calabozo\n",
      "Processing Record 32 of Set 8 | henties bay\n",
      "Processing Record 33 of Set 8 | dmitriyevka\n",
      "chagdacity not found. Skipping...\n",
      "Processing Record 34 of Set 8 | wang noi\n",
      "Processing Record 35 of Set 8 | mormugao\n",
      "Processing Record 36 of Set 8 | pemangkat\n",
      "Processing Record 37 of Set 8 | campoverde\n",
      "Processing Record 38 of Set 8 | calvinia\n",
      "Processing Record 39 of Set 8 | mati\n",
      "Processing Record 40 of Set 8 | road town\n",
      "Processing Record 41 of Set 8 | kwekwe\n",
      "Processing Record 42 of Set 8 | goure\n",
      "Processing Record 43 of Set 8 | markivka\n",
      "Processing Record 44 of Set 8 | bathsheba\n",
      "Processing Record 45 of Set 8 | mayskiy\n",
      "Processing Record 46 of Set 8 | evanston\n",
      "Processing Record 47 of Set 8 | nizhnyaya omka\n",
      "Processing Record 48 of Set 8 | poltavka\n",
      "Processing Record 49 of Set 8 | riyadh\n",
      "Processing Record 1 of Set 9 | north bend\n",
      "Processing Record 2 of Set 9 | buraydah\n",
      "Processing Record 3 of Set 9 | surgut\n",
      "Processing Record 4 of Set 9 | sabha\n",
      "Processing Record 5 of Set 9 | pekalongan\n",
      "Processing Record 6 of Set 9 | pembroke\n",
      "Processing Record 7 of Set 9 | mazamari\n",
      "buricacity not found. Skipping...\n",
      "Processing Record 8 of Set 9 | cayenne\n",
      "Processing Record 9 of Set 9 | san cristobal\n",
      "Processing Record 10 of Set 9 | ruteng\n",
      "karaulcity not found. Skipping...\n",
      "hvammstangicity not found. Skipping...\n",
      "Processing Record 11 of Set 9 | kununurra\n",
      "Processing Record 12 of Set 9 | lasa\n",
      "Processing Record 13 of Set 9 | kholodnyy\n",
      "Processing Record 14 of Set 9 | iqaluit\n",
      "Processing Record 15 of Set 9 | sweetwater\n",
      "Processing Record 16 of Set 9 | eureka\n",
      "Processing Record 17 of Set 9 | buala\n",
      "Processing Record 18 of Set 9 | gerash\n",
      "Processing Record 19 of Set 9 | aquin\n",
      "Processing Record 20 of Set 9 | la paz\n",
      "Processing Record 21 of Set 9 | shamgarh\n",
      "Processing Record 22 of Set 9 | mandan\n",
      "Processing Record 23 of Set 9 | ngunguru\n",
      "kazalinskcity not found. Skipping...\n",
      "Processing Record 24 of Set 9 | guerrero negro\n",
      "Processing Record 25 of Set 9 | antofagasta\n",
      "Processing Record 26 of Set 9 | la sarre\n",
      "Processing Record 27 of Set 9 | ostrovnoy\n",
      "Processing Record 28 of Set 9 | santa rosa\n",
      "Processing Record 29 of Set 9 | rotterdam\n",
      "Processing Record 30 of Set 9 | iquique\n",
      "Processing Record 31 of Set 9 | miri\n",
      "Processing Record 32 of Set 9 | belmonte\n",
      "Processing Record 33 of Set 9 | klaksvik\n",
      "Processing Record 34 of Set 9 | spornoye\n",
      "Processing Record 35 of Set 9 | vila franca do campo\n",
      "Processing Record 36 of Set 9 | mujiayingzi\n",
      "Processing Record 37 of Set 9 | tazovskiy\n",
      "Processing Record 38 of Set 9 | bata\n",
      "Processing Record 39 of Set 9 | mocuba\n",
      "Processing Record 40 of Set 9 | thunder bay\n",
      "Processing Record 41 of Set 9 | san juan\n",
      "Processing Record 42 of Set 9 | mogadishu\n",
      "Processing Record 43 of Set 9 | matongo\n",
      "Processing Record 44 of Set 9 | davila\n",
      "Processing Record 45 of Set 9 | hervey bay\n",
      "Processing Record 46 of Set 9 | bowen\n",
      "Processing Record 47 of Set 9 | loandjili\n",
      "Processing Record 48 of Set 9 | bandar-e anzali\n",
      "Processing Record 49 of Set 9 | arkhangelsk\n",
      "Processing Record 1 of Set 10 | tevaitoa\n",
      "Processing Record 2 of Set 10 | batesville\n",
      "Processing Record 3 of Set 10 | kiama\n",
      "Processing Record 4 of Set 10 | shelby\n",
      "Processing Record 5 of Set 10 | ostersund\n",
      "Processing Record 6 of Set 10 | maxixe\n",
      "Processing Record 7 of Set 10 | orange\n",
      "Processing Record 8 of Set 10 | budureasa\n",
      "Processing Record 9 of Set 10 | wajima\n",
      "wahrancity not found. Skipping...\n",
      "Processing Record 10 of Set 10 | skegness\n",
      "bacuitcity not found. Skipping...\n",
      "Processing Record 11 of Set 10 | mubi\n",
      "Processing Record 12 of Set 10 | george\n",
      "Processing Record 13 of Set 10 | ranong\n",
      "Processing Record 14 of Set 10 | comodoro rivadavia\n",
      "Processing Record 15 of Set 10 | karasuk\n",
      "Processing Record 16 of Set 10 | timra\n",
      "Processing Record 17 of Set 10 | bhanpura\n",
      "Processing Record 18 of Set 10 | ust-shonosha\n",
      "Processing Record 19 of Set 10 | alyangula\n",
      "Processing Record 20 of Set 10 | sur\n",
      "Processing Record 21 of Set 10 | bokhan\n",
      "Processing Record 22 of Set 10 | saint-pierre\n",
      "Processing Record 23 of Set 10 | catuday\n",
      "Processing Record 24 of Set 10 | bathurst\n",
      "Processing Record 25 of Set 10 | asmara\n",
      "Processing Record 26 of Set 10 | fenoarivo atsinanana\n",
      "Processing Record 27 of Set 10 | tsogni\n",
      "Processing Record 28 of Set 10 | alwar\n",
      "Processing Record 29 of Set 10 | tayoltita\n",
      "Processing Record 30 of Set 10 | plettenberg bay\n",
      "Processing Record 31 of Set 10 | kharovsk\n",
      "Processing Record 32 of Set 10 | sitka\n",
      "Processing Record 33 of Set 10 | dano\n",
      "Processing Record 34 of Set 10 | douentza\n",
      "Processing Record 35 of Set 10 | nome\n",
      "Processing Record 36 of Set 10 | gazanjyk\n",
      "Processing Record 37 of Set 10 | codrington\n",
      "Processing Record 38 of Set 10 | lumphat\n",
      "Processing Record 39 of Set 10 | moose factory\n",
      "Processing Record 40 of Set 10 | dunedin\n",
      "sorvagcity not found. Skipping...\n",
      "Processing Record 41 of Set 10 | jalapa\n",
      "Processing Record 42 of Set 10 | san ramon\n",
      "Processing Record 43 of Set 10 | olafsvik\n",
      "Processing Record 44 of Set 10 | heide\n",
      "Processing Record 45 of Set 10 | de-kastri\n",
      "Processing Record 46 of Set 10 | ugoofaaru\n",
      "Processing Record 47 of Set 10 | jadu\n",
      "Processing Record 48 of Set 10 | partizanskoye\n",
      "Processing Record 49 of Set 10 | brovst\n",
      "Processing Record 1 of Set 11 | kot samaba\n",
      "Processing Record 2 of Set 11 | mao\n",
      "Processing Record 3 of Set 11 | muana\n",
      "Processing Record 4 of Set 11 | mercedes\n",
      "Processing Record 5 of Set 11 | villaviciosa\n",
      "Processing Record 6 of Set 11 | sisophon\n",
      "Processing Record 7 of Set 11 | marawi\n",
      "Processing Record 8 of Set 11 | puerto madero\n",
      "Processing Record 9 of Set 11 | canton\n",
      "Processing Record 10 of Set 11 | candeias\n",
      "Processing Record 11 of Set 11 | berkak\n",
      "Processing Record 12 of Set 11 | beyneu\n",
      "Processing Record 13 of Set 11 | qui nhon\n",
      "Processing Record 14 of Set 11 | gobabis\n",
      "Processing Record 15 of Set 11 | asosa\n",
      "Processing Record 16 of Set 11 | shintomi\n",
      "Processing Record 17 of Set 11 | ginda\n",
      "Processing Record 18 of Set 11 | nazas\n",
      "Processing Record 19 of Set 11 | alekseyevka\n",
      "Processing Record 20 of Set 11 | haines junction\n",
      "rungatacity not found. Skipping...\n",
      "Processing Record 21 of Set 11 | mandalgovi\n",
      "Processing Record 22 of Set 11 | natchitoches\n",
      "Processing Record 23 of Set 11 | sao jose da coroa grande\n",
      "Processing Record 24 of Set 11 | panalingaan\n",
      "Processing Record 25 of Set 11 | dergachi\n",
      "Processing Record 26 of Set 11 | nhulunbuy\n",
      "barawecity not found. Skipping...\n",
      "anar darrehcity not found. Skipping...\n",
      "Processing Record 27 of Set 11 | kirkwood\n",
      "Processing Record 28 of Set 11 | puerto colombia\n",
      "Processing Record 29 of Set 11 | magalia\n",
      "Processing Record 30 of Set 11 | tadine\n",
      "Processing Record 31 of Set 11 | portobelo\n",
      "Processing Record 32 of Set 11 | waingapu\n",
      "Processing Record 33 of Set 11 | oskarshamn\n",
      "Processing Record 34 of Set 11 | muros\n",
      "Processing Record 35 of Set 11 | kostino\n",
      "Processing Record 36 of Set 11 | mangan\n",
      "Processing Record 37 of Set 11 | pagegiai\n",
      "Processing Record 38 of Set 11 | burnie\n",
      "Processing Record 39 of Set 11 | aksu\n",
      "Processing Record 40 of Set 11 | rawson\n",
      "Processing Record 41 of Set 11 | richards bay\n",
      "Processing Record 42 of Set 11 | portland\n",
      "Processing Record 43 of Set 11 | mnogovershinnyy\n",
      "Processing Record 44 of Set 11 | peace river\n",
      "Processing Record 45 of Set 11 | iwanai\n",
      "Processing Record 46 of Set 11 | nador\n",
      "Processing Record 47 of Set 11 | santa marta\n",
      "Processing Record 48 of Set 11 | thinadhoo\n",
      "Processing Record 49 of Set 11 | batabano\n",
      "Processing Record 1 of Set 12 | trairi\n",
      "Processing Record 2 of Set 12 | asfi\n",
      "Processing Record 3 of Set 12 | obo\n",
      "Processing Record 4 of Set 12 | turan\n",
      "Processing Record 5 of Set 12 | sao miguel do araguaia\n",
      "-----------------------------\n",
      "Data Retrieval Complete\n",
      "-----------------------------\n"
     ]
    }
   ],
   "source": [
    "# Loop through the list of cities and perform a request for data on each and add data to corresponding lists:\n",
    "\n",
    "\n",
    "\n",
    "print('Beginning Data Retrieval')     \n",
    "print('-----------------------------')\n",
    "#for loop to retrieve data \n",
    "for city in cities:\n",
    "         try:       # To skip errors in case a city is not foud.\n",
    "            response=requests.get(target_url + city).json()\n",
    "            cloud.append(response['clouds']['all'])\n",
    "            ctry.append(response['sys']['country'])\n",
    "            date.append(response['dt'])\n",
    "            humid.append(response['main']['humidity'])             \n",
    "            lat.append(response['coord']['lat'])\n",
    "            long.append(response['coord']['lon'])             \n",
    "            maxtemp.append(response['main']['temp_max'])\n",
    "            wind.append(response['wind']['speed'])    \n",
    "            if count > 48: #change the count record and the set record. if count >50. first record will start w 2\n",
    "                count= 1\n",
    "                set +=1\n",
    "                name.append(response['name'])\n",
    "            else:\n",
    "                count += 1\n",
    "                name.append(response['name'])\n",
    "                print(f'Processing Record {count} of Set {set} | {city}')    \n",
    "        except KeyError:\n",
    "            print(city + 'city not found. Skipping...') \n",
    "time.sleep(.5)                                                           \n",
    "print('-----------------------------')\n",
    "print('Data Retrieval Complete')\n",
    "print('-----------------------------')      "
   ]
  },
  {
   "cell_type": "markdown",
   "metadata": {},
   "source": [
    "### Convert Raw Data to DataFrame\n",
    "* Export the city data into a .csv.\n",
    "* Display the DataFrame"
   ]
  },
  {
   "cell_type": "code",
   "execution_count": 110,
   "metadata": {},
   "outputs": [
    {
     "data": {
      "text/html": [
       "<div>\n",
       "<style scoped>\n",
       "    .dataframe tbody tr th:only-of-type {\n",
       "        vertical-align: middle;\n",
       "    }\n",
       "\n",
       "    .dataframe tbody tr th {\n",
       "        vertical-align: top;\n",
       "    }\n",
       "\n",
       "    .dataframe thead th {\n",
       "        text-align: right;\n",
       "    }\n",
       "</style>\n",
       "<table border=\"1\" class=\"dataframe\">\n",
       "  <thead>\n",
       "    <tr style=\"text-align: right;\">\n",
       "      <th></th>\n",
       "      <th>City</th>\n",
       "      <th>Lat</th>\n",
       "      <th>Lng</th>\n",
       "      <th>Max Temp</th>\n",
       "      <th>Humidity</th>\n",
       "      <th>Cloudiness</th>\n",
       "      <th>Wind Speed</th>\n",
       "      <th>Country</th>\n",
       "      <th>Date</th>\n",
       "    </tr>\n",
       "  </thead>\n",
       "  <tbody>\n",
       "    <tr>\n",
       "      <th>0</th>\n",
       "      <td>Qaanaaq</td>\n",
       "      <td>77.4840</td>\n",
       "      <td>-69.3632</td>\n",
       "      <td>31.55</td>\n",
       "      <td>62</td>\n",
       "      <td>10</td>\n",
       "      <td>4.16</td>\n",
       "      <td>GL</td>\n",
       "      <td>1661783869</td>\n",
       "    </tr>\n",
       "    <tr>\n",
       "      <th>1</th>\n",
       "      <td>Ponta do Sol</td>\n",
       "      <td>32.6667</td>\n",
       "      <td>-17.1000</td>\n",
       "      <td>77.63</td>\n",
       "      <td>67</td>\n",
       "      <td>79</td>\n",
       "      <td>3.33</td>\n",
       "      <td>PT</td>\n",
       "      <td>1661783424</td>\n",
       "    </tr>\n",
       "    <tr>\n",
       "      <th>2</th>\n",
       "      <td>Nanortalik</td>\n",
       "      <td>60.1432</td>\n",
       "      <td>-45.2371</td>\n",
       "      <td>40.19</td>\n",
       "      <td>93</td>\n",
       "      <td>90</td>\n",
       "      <td>10.36</td>\n",
       "      <td>GL</td>\n",
       "      <td>1661783870</td>\n",
       "    </tr>\n",
       "    <tr>\n",
       "      <th>3</th>\n",
       "      <td>Port Alfred</td>\n",
       "      <td>-33.5906</td>\n",
       "      <td>26.8910</td>\n",
       "      <td>55.18</td>\n",
       "      <td>88</td>\n",
       "      <td>100</td>\n",
       "      <td>8.01</td>\n",
       "      <td>ZA</td>\n",
       "      <td>1661783870</td>\n",
       "    </tr>\n",
       "    <tr>\n",
       "      <th>4</th>\n",
       "      <td>Penzance</td>\n",
       "      <td>50.1186</td>\n",
       "      <td>-5.5371</td>\n",
       "      <td>70.92</td>\n",
       "      <td>56</td>\n",
       "      <td>20</td>\n",
       "      <td>21.85</td>\n",
       "      <td>GB</td>\n",
       "      <td>1661783566</td>\n",
       "    </tr>\n",
       "  </tbody>\n",
       "</table>\n",
       "</div>"
      ],
      "text/plain": [
       "           City      Lat      Lng  Max Temp  Humidity  Cloudiness  Wind Speed  \\\n",
       "0       Qaanaaq  77.4840 -69.3632     31.55        62          10        4.16   \n",
       "1  Ponta do Sol  32.6667 -17.1000     77.63        67          79        3.33   \n",
       "2    Nanortalik  60.1432 -45.2371     40.19        93          90       10.36   \n",
       "3   Port Alfred -33.5906  26.8910     55.18        88         100        8.01   \n",
       "4      Penzance  50.1186  -5.5371     70.92        56          20       21.85   \n",
       "\n",
       "  Country        Date  \n",
       "0      GL  1661783869  \n",
       "1      PT  1661783424  \n",
       "2      GL  1661783870  \n",
       "3      ZA  1661783870  \n",
       "4      GB  1661783566  "
      ]
     },
     "execution_count": 110,
     "metadata": {},
     "output_type": "execute_result"
    }
   ],
   "source": [
    "weather = {'City': name,\n",
    "    'Lat': lat,\n",
    "    'Lng': long,\n",
    "    'Max Temp': maxtemp,       \n",
    "    'Humidity': humid,\n",
    "    'Cloudiness': cloud,\n",
    "    'Wind Speed': wind,\n",
    "    'Country':ctry,\n",
    "    'Date':date}\n",
    "\n",
    "weather_data=pd.DataFrame(weather)\n",
    "weather_data.head()"
   ]
  },
  {
   "cell_type": "code",
   "execution_count": 111,
   "metadata": {},
   "outputs": [],
   "source": [
    "#ouput csv\n",
    "weather_data.to_csv(output_data_file, index=False)"
   ]
  },
  {
   "cell_type": "code",
   "execution_count": 10,
   "metadata": {},
   "outputs": [
    {
     "data": {
      "text/html": [
       "<div>\n",
       "<style scoped>\n",
       "    .dataframe tbody tr th:only-of-type {\n",
       "        vertical-align: middle;\n",
       "    }\n",
       "\n",
       "    .dataframe tbody tr th {\n",
       "        vertical-align: top;\n",
       "    }\n",
       "\n",
       "    .dataframe thead th {\n",
       "        text-align: right;\n",
       "    }\n",
       "</style>\n",
       "<table border=\"1\" class=\"dataframe\">\n",
       "  <thead>\n",
       "    <tr style=\"text-align: right;\">\n",
       "      <th></th>\n",
       "      <th>Lat</th>\n",
       "      <th>Lng</th>\n",
       "      <th>Max Temp</th>\n",
       "      <th>Humidity</th>\n",
       "      <th>Cloudiness</th>\n",
       "      <th>Wind Speed</th>\n",
       "      <th>Date</th>\n",
       "    </tr>\n",
       "  </thead>\n",
       "  <tbody>\n",
       "    <tr>\n",
       "      <th>count</th>\n",
       "      <td>544.000000</td>\n",
       "      <td>544.000000</td>\n",
       "      <td>544.000000</td>\n",
       "      <td>544.000000</td>\n",
       "      <td>544.000000</td>\n",
       "      <td>544.000000</td>\n",
       "      <td>5.440000e+02</td>\n",
       "    </tr>\n",
       "    <tr>\n",
       "      <th>mean</th>\n",
       "      <td>18.834163</td>\n",
       "      <td>16.333851</td>\n",
       "      <td>70.187941</td>\n",
       "      <td>68.757353</td>\n",
       "      <td>58.284926</td>\n",
       "      <td>8.560643</td>\n",
       "      <td>1.661784e+09</td>\n",
       "    </tr>\n",
       "    <tr>\n",
       "      <th>std</th>\n",
       "      <td>33.574846</td>\n",
       "      <td>89.232022</td>\n",
       "      <td>15.287893</td>\n",
       "      <td>22.887424</td>\n",
       "      <td>38.790528</td>\n",
       "      <td>5.888398</td>\n",
       "      <td>1.155521e+02</td>\n",
       "    </tr>\n",
       "    <tr>\n",
       "      <th>min</th>\n",
       "      <td>-54.800000</td>\n",
       "      <td>-179.166700</td>\n",
       "      <td>31.550000</td>\n",
       "      <td>7.000000</td>\n",
       "      <td>0.000000</td>\n",
       "      <td>0.000000</td>\n",
       "      <td>1.661783e+09</td>\n",
       "    </tr>\n",
       "    <tr>\n",
       "      <th>25%</th>\n",
       "      <td>-9.815175</td>\n",
       "      <td>-62.186250</td>\n",
       "      <td>58.010000</td>\n",
       "      <td>57.750000</td>\n",
       "      <td>20.000000</td>\n",
       "      <td>4.240000</td>\n",
       "      <td>1.661784e+09</td>\n",
       "    </tr>\n",
       "    <tr>\n",
       "      <th>50%</th>\n",
       "      <td>21.722250</td>\n",
       "      <td>21.632450</td>\n",
       "      <td>73.355000</td>\n",
       "      <td>75.000000</td>\n",
       "      <td>75.000000</td>\n",
       "      <td>7.280000</td>\n",
       "      <td>1.661784e+09</td>\n",
       "    </tr>\n",
       "    <tr>\n",
       "      <th>75%</th>\n",
       "      <td>47.951525</td>\n",
       "      <td>96.188875</td>\n",
       "      <td>81.230000</td>\n",
       "      <td>86.000000</td>\n",
       "      <td>99.000000</td>\n",
       "      <td>11.485000</td>\n",
       "      <td>1.661784e+09</td>\n",
       "    </tr>\n",
       "    <tr>\n",
       "      <th>max</th>\n",
       "      <td>78.218600</td>\n",
       "      <td>179.316700</td>\n",
       "      <td>108.700000</td>\n",
       "      <td>100.000000</td>\n",
       "      <td>100.000000</td>\n",
       "      <td>34.740000</td>\n",
       "      <td>1.661784e+09</td>\n",
       "    </tr>\n",
       "  </tbody>\n",
       "</table>\n",
       "</div>"
      ],
      "text/plain": [
       "              Lat         Lng    Max Temp    Humidity  Cloudiness  Wind Speed  \\\n",
       "count  544.000000  544.000000  544.000000  544.000000  544.000000  544.000000   \n",
       "mean    18.834163   16.333851   70.187941   68.757353   58.284926    8.560643   \n",
       "std     33.574846   89.232022   15.287893   22.887424   38.790528    5.888398   \n",
       "min    -54.800000 -179.166700   31.550000    7.000000    0.000000    0.000000   \n",
       "25%     -9.815175  -62.186250   58.010000   57.750000   20.000000    4.240000   \n",
       "50%     21.722250   21.632450   73.355000   75.000000   75.000000    7.280000   \n",
       "75%     47.951525   96.188875   81.230000   86.000000   99.000000   11.485000   \n",
       "max     78.218600  179.316700  108.700000  100.000000  100.000000   34.740000   \n",
       "\n",
       "               Date  \n",
       "count  5.440000e+02  \n",
       "mean   1.661784e+09  \n",
       "std    1.155521e+02  \n",
       "min    1.661783e+09  \n",
       "25%    1.661784e+09  \n",
       "50%    1.661784e+09  \n",
       "75%    1.661784e+09  \n",
       "max    1.661784e+09  "
      ]
     },
     "execution_count": 10,
     "metadata": {},
     "output_type": "execute_result"
    }
   ],
   "source": [
    "#inpect data using describe\n",
    "weather_data.describe()\n",
    "\n",
    "#no city humidity >100%"
   ]
  },
  {
   "cell_type": "markdown",
   "metadata": {},
   "source": [
    "## Inspect the data and remove the cities where the humidity > 100%.\n",
    "----\n",
    "Skip this step if there are no cities that have humidity > 100%. "
   ]
  },
  {
   "cell_type": "markdown",
   "metadata": {},
   "source": [
    "## Plotting the Data\n",
    "* Use proper labeling of the plots using plot titles (including date of analysis) and axes labels.\n",
    "* Save the plotted figures as .pngs."
   ]
  },
  {
   "cell_type": "markdown",
   "metadata": {},
   "source": [
    "## Latitude vs. Temperature Plot"
   ]
  },
  {
   "cell_type": "code",
   "execution_count": 34,
   "metadata": {
    "scrolled": true
   },
   "outputs": [
    {
     "data": {
      "image/png": "[encoded data removed]",
      "text/plain": [
       "<Figure size 432x288 with 1 Axes>"
      ]
     },
     "metadata": {
      "needs_background": "light"
     },
     "output_type": "display_data"
    }
   ],
   "source": [
    "# Build a scatter plot for all cities vs max. temp using latitude:\n",
    "plt.scatter(weather_data['Lat'], weather_data['Max Temp'], marker='o', edgecolors='black', color='blue')\n",
    "plt.title('City Latitude vs. Max Temperature (08/29/2022)')\n",
    "plt.ylabel('Max Temperature')\n",
    "plt.xlabel('Latitude')\n",
    "plt.grid(True)\n",
    "\n",
    "# Save the figure:\n",
    "plt.savefig('output_data/City Latitude vs. MaxTemp.png')\n",
    "\n",
    "# Show plot:\n",
    "plt.show()"
   ]
  },
  {
   "cell_type": "markdown",
   "metadata": {},
   "source": [
    "This plot shows the max change in temperature for a list of differents cities depending on their distance awayfrom the equator on both hemispheres.\n",
    "\n",
    "The plit also shows a strong correlation between lattitude and high temperature. Closer to the equator higher the temperature"
   ]
  },
  {
   "cell_type": "markdown",
   "metadata": {},
   "source": [
    "## Latitude vs. Humidity Plot"
   ]
  },
  {
   "cell_type": "code",
   "execution_count": 37,
   "metadata": {},
   "outputs": [
    {
     "data": {
      "image/png": "[encoded data removed]",
      "text/plain": [
       "<Figure size 432x288 with 1 Axes>"
      ]
     },
     "metadata": {
      "needs_background": "light"
     },
     "output_type": "display_data"
    }
   ],
   "source": [
    "# Build a scatter plot for all cities vs humidity level using latitude:\n",
    "plt.figure\n",
    "plt.scatter(weather_data['Lat'], weather_data['Humidity'], marker='o', edgecolors='black', color='blue')\n",
    "plt.title('City Latitude vs. Humidity (08/29/2022)')\n",
    "plt.ylabel('Humidity (%)')\n",
    "plt.xlabel('Latitude')\n",
    "plt.grid(True)\n",
    "# Save the figure:\n",
    "plt.savefig('output_data/City Latitude vs. Humidity.png')\n",
    "\n",
    "# Show plot:\n",
    "plt.show()"
   ]
  },
  {
   "cell_type": "markdown",
   "metadata": {},
   "source": [
    "The plot shows that there is likely no correlation between the latitude and the humidity % on both hemisphere, but the hummidity is likely to be higher near the equator"
   ]
  },
  {
   "cell_type": "markdown",
   "metadata": {},
   "source": [
    "## Latitude vs. Cloudiness Plot"
   ]
  },
  {
   "cell_type": "code",
   "execution_count": 38,
   "metadata": {},
   "outputs": [
    {
     "data": {
      "image/png": "[encoded data removed]",
      "text/plain": [
       "<Figure size 432x288 with 1 Axes>"
      ]
     },
     "metadata": {
      "needs_background": "light"
     },
     "output_type": "display_data"
    }
   ],
   "source": [
    "# Build a scatter plot for all cities vs cloudiness level:\n",
    "plt.scatter(weather_data['Lat'], weather_data['Cloudiness'], marker='o', edgecolors='black', color='blue')\n",
    "\n",
    "# Incorporate the other graph properties:\n",
    "plt.title('City Latitude vs. Cloudiness (08/29/2022)')\n",
    "plt.ylabel('Cloudiness (%)')\n",
    "plt.xlabel('Latitude')\n",
    "plt.grid(True)\n",
    "\n",
    "# Save the figure\n",
    "plt.savefig('output_data/City Latitude vs. Cloudiness.png')\n",
    "\n",
    "# Show plot\n",
    "plt.show()"
   ]
  },
  {
   "cell_type": "markdown",
   "metadata": {},
   "source": [
    "The data shows no correlation between Latitude and Cloudiness. "
   ]
  },
  {
   "cell_type": "markdown",
   "metadata": {},
   "source": [
    "## Latitude vs. Wind Speed Plot"
   ]
  },
  {
   "cell_type": "code",
   "execution_count": 39,
   "metadata": {},
   "outputs": [
    {
     "data": {
      "image/png": "[encoded data removed]",
      "text/plain": [
       "<Figure size 432x288 with 1 Axes>"
      ]
     },
     "metadata": {
      "needs_background": "light"
     },
     "output_type": "display_data"
    }
   ],
   "source": [
    "# Build a scatter plot for all cities vs cloudiness level:\n",
    "plt.scatter(weather_data['Lat'], weather_data['Wind Speed'], marker='o', edgecolors='black', color='blue')\n",
    "\n",
    "# Incorporate the other graph properties:\n",
    "plt.title('City Latitude vs. Wind Speed (08/29/2022)')\n",
    "plt.ylabel('Wind Speed (mph)')\n",
    "plt.xlabel('Latitude')\n",
    "plt.grid(True)\n",
    "\n",
    "# Save the figure\n",
    "plt.savefig('output_data/City Latitude vs. Wind Speed.png')\n",
    "\n",
    "# Show plot\n",
    "plt.show()"
   ]
  },
  {
   "cell_type": "markdown",
   "metadata": {},
   "source": [
    "This plot demonstrates little to no correlation between wind speed and latitude on both hemispheres."
   ]
  },
  {
   "cell_type": "markdown",
   "metadata": {},
   "source": [
    "## Linear Regression"
   ]
  },
  {
   "cell_type": "code",
   "execution_count": 112,
   "metadata": {},
   "outputs": [
    {
     "name": "stdout",
     "output_type": "stream",
     "text": [
      "<class 'pandas.core.frame.DataFrame'>\n",
      "Int64Index: 176 entries, 3 to 543\n",
      "Data columns (total 9 columns):\n",
      " #   Column      Non-Null Count  Dtype  \n",
      "---  ------      --------------  -----  \n",
      " 0   City        176 non-null    object \n",
      " 1   Lat         176 non-null    float64\n",
      " 2   Lng         176 non-null    float64\n",
      " 3   Max Temp    176 non-null    float64\n",
      " 4   Humidity    176 non-null    int64  \n",
      " 5   Cloudiness  176 non-null    int64  \n",
      " 6   Wind Speed  176 non-null    float64\n",
      " 7   Country     176 non-null    object \n",
      " 8   Date        176 non-null    int64  \n",
      "dtypes: float64(4), int64(3), object(2)\n",
      "memory usage: 13.8+ KB\n"
     ]
    }
   ],
   "source": [
    "#south hemp data frame\n",
    "south_hem = weather_data.loc[weather_data['Lat']<0]\n",
    "south_hem.info()"
   ]
  },
  {
   "cell_type": "code",
   "execution_count": 114,
   "metadata": {},
   "outputs": [
    {
     "name": "stdout",
     "output_type": "stream",
     "text": [
      "<class 'pandas.core.frame.DataFrame'>\n",
      "Int64Index: 368 entries, 0 to 542\n",
      "Data columns (total 9 columns):\n",
      " #   Column      Non-Null Count  Dtype  \n",
      "---  ------      --------------  -----  \n",
      " 0   City        368 non-null    object \n",
      " 1   Lat         368 non-null    float64\n",
      " 2   Lng         368 non-null    float64\n",
      " 3   Max Temp    368 non-null    float64\n",
      " 4   Humidity    368 non-null    int64  \n",
      " 5   Cloudiness  368 non-null    int64  \n",
      " 6   Wind Speed  368 non-null    float64\n",
      " 7   Country     368 non-null    object \n",
      " 8   Date        368 non-null    int64  \n",
      "dtypes: float64(4), int64(3), object(2)\n",
      "memory usage: 28.8+ KB\n"
     ]
    }
   ],
   "source": [
    "#north hemp data frame\n",
    "north_hem = weather_data.loc[weather_data[\"Lat\"]>=0]\n",
    "north_hem.info()\n"
   ]
  },
  {
   "cell_type": "markdown",
   "metadata": {},
   "source": [
    "####  Northern Hemisphere - Max Temp vs. Latitude Linear Regression"
   ]
  },
  {
   "cell_type": "code",
   "execution_count": 64,
   "metadata": {},
   "outputs": [
    {
     "name": "stdout",
     "output_type": "stream",
     "text": [
      "The r-value is -0.7030751255696817\n"
     ]
    },
    {
     "data": {
      "image/png": "[encoded data removed]",
      "text/plain": [
       "<Figure size 432x288 with 1 Axes>"
      ]
     },
     "metadata": {
      "needs_background": "light"
     },
     "output_type": "display_data"
    }
   ],
   "source": [
    "# Build scatter plot for each data type:\n",
    "x_values = north_hem['Lat']\n",
    "y_values = north_hem['Max Temp']\n",
    "\n",
    "# set up linear regression for temperature vs. latitude:\n",
    "(slope, intercept, rvalue, pvalue, stderr) = linregress(x_values, y_values)\n",
    "\n",
    "# Get regression values and correlation:\n",
    "regress_values = x_values * slope + intercept\n",
    "correlation = st.pearsonr(x_values, y_values)\n",
    "\n",
    "\n",
    "# Create line equation string:\n",
    "line_eq = 'y = ' + str(round(slope,2)) + 'x + ' + str(round(intercept,2))\n",
    "\n",
    "# Create plot:\n",
    "plt.scatter(x_values,y_values, marker='o', color='blue')\n",
    "plt.plot(x_values,regress_values, 'darkred', linewidth=2)\n",
    "\n",
    "# Incorporate the other graph properties:\n",
    "plt.title('Northern Hemisphere - Max Temp vs. Latitude')\n",
    "plt.ylabel('Max Temperature (F)')\n",
    "plt.xlabel('Latitude')\n",
    "plt.annotate(line_eq,(5, 38), fontsize=18, color='darkred')\n",
    "print(f'The r-value is {correlation[0]}')\n",
    "\n",
    "\n",
    "# Save the figure:\n",
    "plt.savefig('output_data/City Latitude vs. MaxTemp_North.png')\n",
    "\n",
    "# Show plot:\n",
    "plt.show()\n"
   ]
  },
  {
   "cell_type": "markdown",
   "metadata": {},
   "source": [
    "There is a strong negative correlation between latitude and maximum temperature on the Northern Hemisphere. The further north from the equator a city is the lower its max temperature is."
   ]
  },
  {
   "cell_type": "markdown",
   "metadata": {},
   "source": [
    "####  Southern Hemisphere - Max Temp vs. Latitude Linear Regression"
   ]
  },
  {
   "cell_type": "code",
   "execution_count": 78,
   "metadata": {},
   "outputs": [
    {
     "name": "stdout",
     "output_type": "stream",
     "text": [
      "The r-value is 0.789435441549832\n"
     ]
    },
    {
     "data": {
      "image/png": "[encoded data removed]",
      "text/plain": [
       "<Figure size 432x288 with 1 Axes>"
      ]
     },
     "metadata": {
      "needs_background": "light"
     },
     "output_type": "display_data"
    }
   ],
   "source": [
    "# Build scatter plot for each data type:\n",
    "x_values1 = south_hem['Lat']\n",
    "y_values1 = south_hem['Max Temp']\n",
    "\n",
    "# set up linear regression for temperature vs. latitude:\n",
    "(slope, intercept, rvalue, pvalue, stderr) = linregress(x_values1, y_values1)\n",
    "\n",
    "# Get regression values and correlation:\n",
    "regress_values1 = x_values1 * slope + intercept\n",
    "correlation1 = st.pearsonr(x_values1, y_values1)\n",
    "\n",
    "\n",
    "# Create line equation string:\n",
    "line_eq = 'y = ' + str(round(slope,2)) + 'x + ' + str(round(intercept,2))\n",
    "\n",
    "# Create plot:\n",
    "plt.scatter(x_values1,y_values1, marker='o', color='blue')\n",
    "plt.plot(x_values1,regress_values1, 'darkred', linewidth=2)\n",
    "\n",
    "# Incorporate the other graph properties:\n",
    "plt.title('Southern Hemisphere - Max Temp vs. Latitude')\n",
    "plt.ylabel('Max Temperature (F)')\n",
    "plt.xlabel('Latitude')\n",
    "plt.annotate(line_eq,(-50, 90), fontsize=18, color='darkred')\n",
    "print(f'The r-value is {correlation1[0]}')\n",
    "\n",
    "\n",
    "# Save the figure:\n",
    "plt.savefig('output_data/City Latitude vs. MaxTemp_Southern.png')\n",
    "\n",
    "# Show plot:\n",
    "plt.show()\n"
   ]
  },
  {
   "cell_type": "markdown",
   "metadata": {},
   "source": [
    "There is a positive correlation between maximum temperature and a latitude on the Southern Hemisphere. Cities that are closer to the hemisphere recorded higher max temperature and the max temp gradually decreased where a city is further away from the equator. \n",
    "\n"
   ]
  },
  {
   "cell_type": "markdown",
   "metadata": {},
   "source": [
    "####  Northern Hemisphere - Humidity (%) vs. Latitude Linear Regression"
   ]
  },
  {
   "cell_type": "code",
   "execution_count": 85,
   "metadata": {},
   "outputs": [
    {
     "name": "stdout",
     "output_type": "stream",
     "text": [
      "The r-value is 0.032639094150699856\n"
     ]
    },
    {
     "data": {
      "image/png": "[encoded data removed]",
      "text/plain": [
       "<Figure size 432x288 with 1 Axes>"
      ]
     },
     "metadata": {
      "needs_background": "light"
     },
     "output_type": "display_data"
    }
   ],
   "source": [
    "# Build scatter plot for each data type:\n",
    "x_values2 = north_hem['Lat']\n",
    "y_values2 = north_hem['Humidity']\n",
    "\n",
    "# set up linear regression for temperature vs. latitude:\n",
    "(slope, intercept, rvalue, pvalue, stderr) = linregress(x_values2, y_values2)\n",
    "\n",
    "# Get regression values and correlation:\n",
    "regress_values2 = x_values2 * slope + intercept\n",
    "correlation2 = st.pearsonr(x_values2, y_values2)\n",
    "\n",
    "\n",
    "# Create line equation string:\n",
    "line_eq = 'y = ' + str(round(slope,2)) + 'x + ' + str(round(intercept,2))\n",
    "\n",
    "# Create plot:\n",
    "plt.scatter(x_values2,y_values2, marker='o', color='blue')\n",
    "plt.plot(x_values2,regress_values2, 'darkred', linewidth=2)\n",
    "\n",
    "# Incorporate the other graph properties:\n",
    "plt.title('Northern Hemisphere - Humidity (%) vs. Latitude')\n",
    "plt.ylabel('Humidity (%)')\n",
    "plt.xlabel('Latitude')\n",
    "plt.annotate(line_eq,(37, 15), fontsize=18, color='darkred')\n",
    "print(f'The r-value is {correlation2[0]}')\n",
    "\n",
    "\n",
    "# Save the figure:\n",
    "plt.savefig('output_data/Northern Hemisphere - Humidity (%) vs. Latitude.png')\n",
    "\n",
    "# Show plot:\n",
    "plt.show()\n"
   ]
  },
  {
   "cell_type": "markdown",
   "metadata": {},
   "source": [
    "In my opinion, there is no correlation between the latitude and the humidity level on the North Hemisphere. "
   ]
  },
  {
   "cell_type": "markdown",
   "metadata": {},
   "source": [
    "####  Southern Hemisphere - Humidity (%) vs. Latitude Linear Regression"
   ]
  },
  {
   "cell_type": "code",
   "execution_count": 92,
   "metadata": {},
   "outputs": [
    {
     "name": "stdout",
     "output_type": "stream",
     "text": [
      "The r-value is -0.04854811379204259\n"
     ]
    },
    {
     "data": {
      "image/png": "[encoded data removed]",
      "text/plain": [
       "<Figure size 432x288 with 1 Axes>"
      ]
     },
     "metadata": {
      "needs_background": "light"
     },
     "output_type": "display_data"
    }
   ],
   "source": [
    "# Build scatter plot for each data type:\n",
    "x_values3 = south_hem['Lat']\n",
    "y_values3 = south_hem['Humidity']\n",
    "\n",
    "# set up linear regression for temperature vs. latitude:\n",
    "(slope, intercept, rvalue, pvalue, stderr) = linregress(x_values3, y_values3)\n",
    "\n",
    "# Get regression values and correlation:\n",
    "regress_values3 = x_values3 * slope + intercept\n",
    "correlation3 = st.pearsonr(x_values3, y_values3)\n",
    "\n",
    "\n",
    "# Create line equation string:\n",
    "line_eq = 'y = ' + str(round(slope,2)) + 'x + ' + str(round(intercept,2))\n",
    "\n",
    "# Create plot:\n",
    "plt.scatter(x_values3,y_values3, marker='o', color='blue')\n",
    "plt.plot(x_values3,regress_values3, 'darkred', linewidth=2)\n",
    "\n",
    "# Incorporate the other graph properties:\n",
    "plt.title('Southern Hemisphere - Humidity (%) vs. Latitude')\n",
    "plt.ylabel('Humidity (%)')\n",
    "plt.xlabel('Latitude')\n",
    "plt.annotate(line_eq,(-55, 8), fontsize=18, color='darkred')\n",
    "print(f'The r-value is {correlation3[0]}')\n",
    "\n",
    "\n",
    "# Save the figure:\n",
    "plt.savefig('output_data/Southern Hemisphere - Humidity (%) vs. Latitude.png')\n",
    "\n",
    "# Show plot:\n",
    "plt.show()"
   ]
  },
  {
   "cell_type": "markdown",
   "metadata": {},
   "source": [
    "In my opinion, there is no correlation between the latitude and the humidity level on the South Hemisphere. "
   ]
  },
  {
   "cell_type": "markdown",
   "metadata": {},
   "source": [
    "####  Northern Hemisphere - Cloudiness (%) vs. Latitude Linear Regression"
   ]
  },
  {
   "cell_type": "code",
   "execution_count": 97,
   "metadata": {},
   "outputs": [
    {
     "name": "stdout",
     "output_type": "stream",
     "text": [
      "The r-value is 0.05257898706432275\n"
     ]
    },
    {
     "data": {
      "image/png": "[encoded data removed]",
      "text/plain": [
       "<Figure size 432x288 with 1 Axes>"
      ]
     },
     "metadata": {
      "needs_background": "light"
     },
     "output_type": "display_data"
    }
   ],
   "source": [
    "# Build scatter plot for each data type:\n",
    "x_values4 = north_hem['Lat']\n",
    "y_values4 = north_hem['Cloudiness']\n",
    "\n",
    "# set up linear regression for temperature vs. latitude:\n",
    "(slope, intercept, rvalue, pvalue, stderr) = linregress(x_values4, y_values4)\n",
    "\n",
    "# Get regression values and correlation:\n",
    "regress_values4 = x_values4 * slope + intercept\n",
    "correlation4 = st.pearsonr(x_values4, y_values4)\n",
    "\n",
    "\n",
    "# Create line equation string:\n",
    "line_eq = 'y = ' + str(round(slope,2)) + 'x + ' + str(round(intercept,2))\n",
    "\n",
    "# Create plot:\n",
    "plt.scatter(x_values4,y_values4, marker='o', color='blue')\n",
    "plt.plot(x_values4,regress_values4, 'darkred', linewidth=2)\n",
    "\n",
    "# Incorporate the other graph properties:\n",
    "plt.title('Northern Hemisphere - Cloudiness (%) vs. Latitude')\n",
    "plt.ylabel('Cloudiness (%)')\n",
    "plt.xlabel('Latitude')\n",
    "plt.annotate(line_eq,(23,50), fontsize=18, color='darkred')\n",
    "print(f'The r-value is {correlation4[0]}')\n",
    "\n",
    "\n",
    "# Save the figure:\n",
    "plt.savefig('output_data/Northern Hemisphere - Cloudiness (%) vs. Latitude.png')\n",
    "\n",
    "# Show plot:\n",
    "plt.show()"
   ]
  },
  {
   "cell_type": "markdown",
   "metadata": {},
   "source": [
    "There is no correlation between the cloudiness level and a latitude on the Northern Hemisphere."
   ]
  },
  {
   "cell_type": "markdown",
   "metadata": {},
   "source": [
    "####  Southern Hemisphere - Cloudiness (%) vs. Latitude Linear Regression"
   ]
  },
  {
   "cell_type": "code",
   "execution_count": 100,
   "metadata": {},
   "outputs": [
    {
     "name": "stdout",
     "output_type": "stream",
     "text": [
      "The r-value is 0.15414683496027126\n"
     ]
    },
    {
     "data": {
      "image/png": "[encoded data removed]",
      "text/plain": [
       "<Figure size 432x288 with 1 Axes>"
      ]
     },
     "metadata": {
      "needs_background": "light"
     },
     "output_type": "display_data"
    }
   ],
   "source": [
    "# Build scatter plot for each data type:\n",
    "x_values5 = south_hem['Lat']\n",
    "y_values5 = south_hem['Cloudiness']\n",
    "\n",
    "# set up linear regression for temperature vs. latitude:\n",
    "(slope, intercept, rvalue, pvalue, stderr) = linregress(x_values5, y_values5)\n",
    "\n",
    "# Get regression values and correlation:\n",
    "regress_values5 = x_values5 * slope + intercept\n",
    "correlation5 = st.pearsonr(x_values5, y_values5)\n",
    "\n",
    "\n",
    "# Create line equation string:\n",
    "line_eq = 'y = ' + str(round(slope,2)) + 'x + ' + str(round(intercept,2))\n",
    "\n",
    "# Create plot:\n",
    "plt.scatter(x_values5,y_values5, marker='o', color='blue')\n",
    "plt.plot(x_values5,regress_values5, 'darkred', linewidth=2)\n",
    "\n",
    "# Incorporate the other graph properties:\n",
    "plt.title('Southern Hemisphere - Cloudiness (%) vs. Latitude Linear Regression')\n",
    "plt.ylabel('Cloudiness (%)')\n",
    "plt.xlabel('Latitude')\n",
    "plt.annotate(line_eq,(-55, 22), fontsize=18, color='darkred')\n",
    "print(f'The r-value is {correlation5[0]}')\n",
    "\n",
    "\n",
    "# Save the figure:\n",
    "plt.savefig('output_data/Southern Hemisphere - Cloudiness (%) vs. Latitude Linear Regression.png')\n",
    "\n",
    "# Show plot:\n",
    "plt.show()"
   ]
  },
  {
   "cell_type": "markdown",
   "metadata": {},
   "source": [
    "There is no clear correlation between the cloudiness level and latitude on the south hemisphere"
   ]
  },
  {
   "cell_type": "markdown",
   "metadata": {},
   "source": [
    "####  Northern Hemisphere - Wind Speed (mph) vs. Latitude Linear Regression"
   ]
  },
  {
   "cell_type": "code",
   "execution_count": 106,
   "metadata": {},
   "outputs": [
    {
     "name": "stdout",
     "output_type": "stream",
     "text": [
      "The r-value is 0.1381572235351911\n"
     ]
    },
    {
     "data": {
      "image/png": "[encoded data removed]",
      "text/plain": [
       "<Figure size 432x288 with 1 Axes>"
      ]
     },
     "metadata": {
      "needs_background": "light"
     },
     "output_type": "display_data"
    }
   ],
   "source": [
    "# Build scatter plot for each data type:\n",
    "x_values6 = north_hem['Lat']\n",
    "y_values6 = north_hem['Wind Speed']\n",
    "\n",
    "# set up linear regression for temperature vs. latitude:\n",
    "(slope, intercept, rvalue, pvalue, stderr) = linregress(x_values6, y_values6)\n",
    "\n",
    "# Get regression values and correlation:\n",
    "regress_values6 = x_values6 * slope + intercept\n",
    "correlation6 = st.pearsonr(x_values6, y_values6)\n",
    "\n",
    "\n",
    "# Create line equation string:\n",
    "line_eq = 'y = ' + str(round(slope,2)) + 'x + ' + str(round(intercept,2))\n",
    "\n",
    "# Create plot:\n",
    "plt.scatter(x_values6,y_values6, marker='o', color='blue')\n",
    "plt.plot(x_values6,regress_values6, 'darkred', linewidth=2)\n",
    "\n",
    "# Incorporate the other graph properties:\n",
    "plt.title('Northern Hemisphere - Wind Speed (mph) vs. Latitude Linear Regression')\n",
    "plt.ylabel('Wind Speed (mph)')\n",
    "plt.xlabel('Latitude')\n",
    "plt.annotate(line_eq,(20, 30), fontsize=18, color='darkred')\n",
    "print(f'The r-value is {correlation6[0]}')\n",
    "\n",
    "\n",
    "# Save the figure:\n",
    "plt.savefig('output_data/Northern Hemisphere - Wind Speed (mph) vs. Latitude Linear Regression.png')\n",
    "\n",
    "# Show plot:\n",
    "plt.show()"
   ]
  },
  {
   "cell_type": "markdown",
   "metadata": {},
   "source": [
    "There is a low correlation between the wind speed and a latitude on the Northern Hemisphere. Majority of cities recorded wind speedn between 0-15 mph across the Northern Hemisphere"
   ]
  },
  {
   "cell_type": "markdown",
   "metadata": {},
   "source": [
    "####  Southern Hemisphere - Wind Speed (mph) vs. Latitude Linear Regression"
   ]
  },
  {
   "cell_type": "code",
   "execution_count": 103,
   "metadata": {},
   "outputs": [
    {
     "name": "stdout",
     "output_type": "stream",
     "text": [
      "The r-value is -0.06981959811476976\n"
     ]
    },
    {
     "data": {
      "image/png": "[encoded data removed]",
      "text/plain": [
       "<Figure size 432x288 with 1 Axes>"
      ]
     },
     "metadata": {
      "needs_background": "light"
     },
     "output_type": "display_data"
    }
   ],
   "source": [
    "# Build scatter plot for each data type:\n",
    "x_values7 = south_hem['Lat']\n",
    "y_values7 = south_hem['Wind Speed']\n",
    "\n",
    "# set up linear regression for temperature vs. latitude:\n",
    "(slope, intercept, rvalue, pvalue, stderr) = linregress(x_values7, y_values7)\n",
    "\n",
    "# Get regression values and correlation:\n",
    "regress_values7 = x_values7 * slope + intercept\n",
    "correlation7 = st.pearsonr(x_values7, y_values7)\n",
    "\n",
    "\n",
    "# Create line equation string:\n",
    "line_eq = 'y = ' + str(round(slope,2)) + 'x + ' + str(round(intercept,2))\n",
    "\n",
    "# Create plot:\n",
    "plt.scatter(x_values7,y_values7, marker='o', color='blue')\n",
    "plt.plot(x_values7,regress_values7, 'darkred', linewidth=2)\n",
    "\n",
    "# Incorporate the other graph properties:\n",
    "plt.title('Southern Hemisphere - Wind Speed (mph) vs. Latitude Linear Regression')\n",
    "plt.ylabel('Wind Speed (mph)')\n",
    "plt.xlabel('Latitude')\n",
    "plt.annotate(line_eq,(-55, 22), fontsize=18, color='darkred')\n",
    "print(f'The r-value is {correlation7[0]}')\n",
    "\n",
    "\n",
    "# Save the figure:\n",
    "plt.savefig('output_data/Southern Hemisphere - Wind Speed (mph) vs. Latitude Linear Regression.png')\n",
    "\n",
    "# Show plot:\n",
    "plt.show()"
   ]
  },
  {
   "cell_type": "markdown",
   "metadata": {},
   "source": [
    "There is a very low negative correlation between a wind speed and a latitude on the Southern Hemisphere.\n"
   ]
  },
  {
   "cell_type": "markdown",
   "metadata": {},
   "source": [
    "Conclusion: \n",
    "    1/ the further a city is away from the equator on both hemisphere, the maximum temperature decreases\n",
    "    2/ there is no correlation between humidity levels and latitude on the Northern Hemisphere. Both hemispheres have a wide range of humidity %, between 10% and 100%, independent of a latitude. Also, on the equator, the humidity level is more than 20%. \n",
    "    3/ there is no correlation between cloudiness and latitude on both hemispheres. Majority of cities have wind speed between 0 to 20 mph, independent of a latitude on both hemispheres.\n"
   ]
  },
  {
   "cell_type": "code",
   "execution_count": null,
   "metadata": {},
   "outputs": [],
   "source": []
  }
 ],
 "metadata": {
  "anaconda-cloud": {},
  "kernel_info": {
   "name": "python3"
  },
  "kernelspec": {
   "display_name": "Python 3 (ipykernel)",
   "language": "python",
   "name": "python3"
  },
  "language_info": {
   "codemirror_mode": {
    "name": "ipython",
    "version": 3
   },
   "file_extension": ".py",
   "mimetype": "text/x-python",
   "name": "python",
   "nbconvert_exporter": "python",
   "pygments_lexer": "ipython3",
   "version": "3.9.12"
  },
  "latex_envs": {
   "LaTeX_envs_menu_present": true,
   "autoclose": false,
   "autocomplete": true,
   "bibliofile": "biblio.bib",
   "cite_by": "apalike",
   "current_citInitial": 1,
   "eqLabelWithNumbers": true,
   "eqNumInitial": 1,
   "hotkeys": {
    "equation": "Ctrl-E",
    "itemize": "Ctrl-I"
   },
   "labels_anchors": false,
   "latex_user_defs": false,
   "report_style_numbering": false,
   "user_envs_cfg": false
  },
  "nteract": {
   "version": "0.12.3"
  }
 },
 "nbformat": 4,
 "nbformat_minor": 2
}
